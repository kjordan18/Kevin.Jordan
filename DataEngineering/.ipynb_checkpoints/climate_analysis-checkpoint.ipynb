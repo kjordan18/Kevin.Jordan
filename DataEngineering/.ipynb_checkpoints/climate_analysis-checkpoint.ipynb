{
 "cells": [
  {
   "cell_type": "code",
   "execution_count": 1,
   "metadata": {
    "collapsed": true
   },
   "outputs": [],
   "source": [
    "#SQLAlchemy\n",
    "from sqlalchemy import create_engine\n",
    "import sqlalchemy\n",
    "from sqlalchemy.ext.automap import automap_base\n",
    "from sqlalchemy import Column, Integer, String, Float, create_engine, inspect, func\n",
    "# from sqlalchemy import Column, Integer, String, Float, create_engine, inspect, func\n",
    "from sqlalchemy.orm import Session\n",
    "\n",
    "#SQLite \n",
    "import sqlite3\n",
    "from sqlite3 import Error\n",
    "\n",
    "#Pandas & plt\n",
    "import pandas as pd\n",
    "import datetime as dt\n",
    "import matplotlib.pyplot as plt\n",
    "import re\n",
    "import numpy as np\n",
    "\n",
    "# PyMySQL \n",
    "import pymysql\n",
    "pymysql.install_as_MySQLdb()"
   ]
  },
  {
   "cell_type": "code",
   "execution_count": 2,
   "metadata": {
    "collapsed": true
   },
   "outputs": [],
   "source": [
    "engine = create_engine(f\"sqlite:///hawaii.sqlite\", echo=False)\n",
    "Base = automap_base()\n",
    "Base.prepare(engine, reflect = True)\n",
    "inspector = inspect(engine)"
   ]
  },
  {
   "cell_type": "code",
   "execution_count": 3,
   "metadata": {
    "collapsed": true
   },
   "outputs": [],
   "source": [
    "measure = Base.classes.measure_sql"
   ]
  },
  {
   "cell_type": "code",
   "execution_count": 4,
   "metadata": {
    "collapsed": true
   },
   "outputs": [],
   "source": [
    "station = Base.classes.station_sql"
   ]
  },
  {
   "cell_type": "code",
   "execution_count": 5,
   "metadata": {
    "collapsed": true
   },
   "outputs": [],
   "source": [
    "session = Session(engine)\n"
   ]
  },
  {
   "cell_type": "code",
   "execution_count": 6,
   "metadata": {},
   "outputs": [
    {
     "name": "stdout",
     "output_type": "stream",
     "text": [
      "{'name': 'id', 'type': INTEGER(), 'nullable': False, 'default': None, 'autoincrement': 'auto', 'primary_key': 1}\n",
      "{'name': 'station', 'type': VARCHAR(), 'nullable': True, 'default': None, 'autoincrement': 'auto', 'primary_key': 0}\n",
      "{'name': 'date', 'type': VARCHAR(), 'nullable': True, 'default': None, 'autoincrement': 'auto', 'primary_key': 0}\n",
      "{'name': 'prcp', 'type': FLOAT(), 'nullable': True, 'default': None, 'autoincrement': 'auto', 'primary_key': 0}\n",
      "{'name': 'tobs', 'type': FLOAT(), 'nullable': True, 'default': None, 'autoincrement': 'auto', 'primary_key': 0}\n"
     ]
    }
   ],
   "source": [
    "columns = inspector.get_columns('measure_sql')\n",
    "for c in columns:\n",
    "    print (c)"
   ]
  },
  {
   "cell_type": "markdown",
   "metadata": {},
   "source": [
    "## Precipitation Analysis"
   ]
  },
  {
   "cell_type": "code",
   "execution_count": 7,
   "metadata": {
    "collapsed": true
   },
   "outputs": [],
   "source": [
    "mp = session.query(measure.date, measure.prcp).\\\n",
    "    filter(measure.date <= '2017-05-01').\\\n",
    "    filter(measure.date >= '2016-05-01').all()\n",
    "# mp"
   ]
  },
  {
   "cell_type": "code",
   "execution_count": 8,
   "metadata": {},
   "outputs": [
    {
     "data": {
      "text/html": [
       "<div>\n",
       "<style>\n",
       "    .dataframe thead tr:only-child th {\n",
       "        text-align: right;\n",
       "    }\n",
       "\n",
       "    .dataframe thead th {\n",
       "        text-align: left;\n",
       "    }\n",
       "\n",
       "    .dataframe tbody tr th {\n",
       "        vertical-align: top;\n",
       "    }\n",
       "</style>\n",
       "<table border=\"1\" class=\"dataframe\">\n",
       "  <thead>\n",
       "    <tr style=\"text-align: right;\">\n",
       "      <th></th>\n",
       "      <th>Date</th>\n",
       "      <th>Prcp</th>\n",
       "    </tr>\n",
       "  </thead>\n",
       "  <tbody>\n",
       "    <tr>\n",
       "      <th>0</th>\n",
       "      <td>2016-05-01</td>\n",
       "      <td>0.00</td>\n",
       "    </tr>\n",
       "    <tr>\n",
       "      <th>1</th>\n",
       "      <td>2016-05-02</td>\n",
       "      <td>0.00</td>\n",
       "    </tr>\n",
       "    <tr>\n",
       "      <th>2</th>\n",
       "      <td>2016-05-03</td>\n",
       "      <td>0.01</td>\n",
       "    </tr>\n",
       "    <tr>\n",
       "      <th>3</th>\n",
       "      <td>2016-05-04</td>\n",
       "      <td>0.00</td>\n",
       "    </tr>\n",
       "    <tr>\n",
       "      <th>4</th>\n",
       "      <td>2016-05-05</td>\n",
       "      <td>0.13</td>\n",
       "    </tr>\n",
       "  </tbody>\n",
       "</table>\n",
       "</div>"
      ],
      "text/plain": [
       "         Date  Prcp\n",
       "0  2016-05-01  0.00\n",
       "1  2016-05-02  0.00\n",
       "2  2016-05-03  0.01\n",
       "3  2016-05-04  0.00\n",
       "4  2016-05-05  0.13"
      ]
     },
     "execution_count": 8,
     "metadata": {},
     "output_type": "execute_result"
    }
   ],
   "source": [
    "conn = engine.connect()\n",
    "mp = pd.DataFrame(mp, columns=[\"Date\", \"Prcp\"])\n",
    "mp.head()"
   ]
  },
  {
   "cell_type": "code",
   "execution_count": 9,
   "metadata": {
    "collapsed": true
   },
   "outputs": [],
   "source": [
    "# mp = mp.set_index('Date')"
   ]
  },
  {
   "cell_type": "code",
   "execution_count": 10,
   "metadata": {
    "collapsed": true
   },
   "outputs": [],
   "source": [
    "mp = mp.groupby('Date').mean()"
   ]
  },
  {
   "cell_type": "code",
   "execution_count": 11,
   "metadata": {
    "collapsed": true
   },
   "outputs": [],
   "source": [
    "# mp['index'] = range(1, len(mp) + 1)\n",
    "# mp = mp.reset_index('index', drop = False)\n",
    "# mp.head()"
   ]
  },
  {
   "cell_type": "code",
   "execution_count": 12,
   "metadata": {},
   "outputs": [
    {
     "data": {
      "text/plain": [
       "<function matplotlib.pyplot.show>"
      ]
     },
     "execution_count": 12,
     "metadata": {},
     "output_type": "execute_result"
    }
   ],
   "source": [
    "mp['Prcp'].plot()\n",
    "labels = ['May', 'June', 'July', 'August', 'September', 'October', 'November', 'December', 'January', 'February', 'March','April']\n",
    "locs = [0,30, 60, 90, 120, 150, 180, 210, 240, 270, 300, 330, 360]\n",
    "plt.xticks(locs, labels, rotation=20)\n",
    "plt.xticks(rotation='45')\n",
    "plt.tight_layout()\n",
    "plt.show"
   ]
  },
  {
   "cell_type": "code",
   "execution_count": 13,
   "metadata": {
    "collapsed": true
   },
   "outputs": [],
   "source": [
    "# plot.set_xticklabels(mp.index)"
   ]
  },
  {
   "cell_type": "code",
   "execution_count": 14,
   "metadata": {
    "collapsed": true
   },
   "outputs": [],
   "source": [
    "# list(np.ravel)"
   ]
  },
  {
   "cell_type": "markdown",
   "metadata": {},
   "source": [
    "## Station Analysis"
   ]
  },
  {
   "cell_type": "code",
   "execution_count": 15,
   "metadata": {},
   "outputs": [
    {
     "name": "stdout",
     "output_type": "stream",
     "text": [
      "The Total Stations Collecting data is 9\n"
     ]
    }
   ],
   "source": [
    "total_stations = session.query(station.station).count()\n",
    "print(f\"The Total Stations Collecting data is {total_stations}\")"
   ]
  },
  {
   "cell_type": "code",
   "execution_count": 16,
   "metadata": {
    "collapsed": true
   },
   "outputs": [],
   "source": [
    "ts = session.query(measure.station, measure.date).all()\n",
    "# ts"
   ]
  },
  {
   "cell_type": "code",
   "execution_count": 17,
   "metadata": {},
   "outputs": [
    {
     "data": {
      "text/html": [
       "<div>\n",
       "<style>\n",
       "    .dataframe thead tr:only-child th {\n",
       "        text-align: right;\n",
       "    }\n",
       "\n",
       "    .dataframe thead th {\n",
       "        text-align: left;\n",
       "    }\n",
       "\n",
       "    .dataframe tbody tr th {\n",
       "        vertical-align: top;\n",
       "    }\n",
       "</style>\n",
       "<table border=\"1\" class=\"dataframe\">\n",
       "  <thead>\n",
       "    <tr style=\"text-align: right;\">\n",
       "      <th></th>\n",
       "      <th>date</th>\n",
       "    </tr>\n",
       "    <tr>\n",
       "      <th>station</th>\n",
       "      <th></th>\n",
       "    </tr>\n",
       "  </thead>\n",
       "  <tbody>\n",
       "    <tr>\n",
       "      <th>USC00519281</th>\n",
       "      <td>2772</td>\n",
       "    </tr>\n",
       "    <tr>\n",
       "      <th>USC00513117</th>\n",
       "      <td>2696</td>\n",
       "    </tr>\n",
       "    <tr>\n",
       "      <th>USC00519397</th>\n",
       "      <td>2685</td>\n",
       "    </tr>\n",
       "    <tr>\n",
       "      <th>USC00519523</th>\n",
       "      <td>2572</td>\n",
       "    </tr>\n",
       "    <tr>\n",
       "      <th>USC00516128</th>\n",
       "      <td>2484</td>\n",
       "    </tr>\n",
       "    <tr>\n",
       "      <th>USC00514830</th>\n",
       "      <td>1937</td>\n",
       "    </tr>\n",
       "    <tr>\n",
       "      <th>USC00511918</th>\n",
       "      <td>1932</td>\n",
       "    </tr>\n",
       "    <tr>\n",
       "      <th>USC00517948</th>\n",
       "      <td>683</td>\n",
       "    </tr>\n",
       "    <tr>\n",
       "      <th>USC00518838</th>\n",
       "      <td>342</td>\n",
       "    </tr>\n",
       "  </tbody>\n",
       "</table>\n",
       "</div>"
      ],
      "text/plain": [
       "             date\n",
       "station          \n",
       "USC00519281  2772\n",
       "USC00513117  2696\n",
       "USC00519397  2685\n",
       "USC00519523  2572\n",
       "USC00516128  2484\n",
       "USC00514830  1937\n",
       "USC00511918  1932\n",
       "USC00517948   683\n",
       "USC00518838   342"
      ]
     },
     "execution_count": 17,
     "metadata": {},
     "output_type": "execute_result"
    }
   ],
   "source": [
    "station_count = pd.DataFrame(ts)\n",
    "group_station = station_count.groupby('station').count()\n",
    "sort_station = group_station.sort_values('date', ascending=False, inplace=False)\n",
    "sort_station"
   ]
  },
  {
   "cell_type": "markdown",
   "metadata": {},
   "source": [
    "USC00519281 has the highest number of observations."
   ]
  },
  {
   "cell_type": "code",
   "execution_count": 18,
   "metadata": {},
   "outputs": [
    {
     "data": {
      "text/plain": [
       "[('2016-05-01', 'USC00519281', 75.0),\n",
       " ('2016-05-02', 'USC00519281', 73.0),\n",
       " ('2016-05-03', 'USC00519281', 74.0),\n",
       " ('2016-05-04', 'USC00519281', 72.0),\n",
       " ('2016-05-05', 'USC00519281', 68.0),\n",
       " ('2016-05-06', 'USC00519281', 66.0),\n",
       " ('2016-05-07', 'USC00519281', 69.0),\n",
       " ('2016-05-08', 'USC00519281', 67.0),\n",
       " ('2016-05-09', 'USC00519281', 68.0),\n",
       " ('2016-05-10', 'USC00519281', 68.0),\n",
       " ('2016-05-11', 'USC00519281', 67.0),\n",
       " ('2016-05-12', 'USC00519281', 65.0),\n",
       " ('2016-05-13', 'USC00519281', 68.0),\n",
       " ('2016-05-14', 'USC00519281', 70.0),\n",
       " ('2016-05-15', 'USC00519281', 76.0),\n",
       " ('2016-05-16', 'USC00519281', 75.0),\n",
       " ('2016-05-17', 'USC00519281', 75.0),\n",
       " ('2016-05-18', 'USC00519281', 72.0),\n",
       " ('2016-05-19', 'USC00519281', 75.0),\n",
       " ('2016-05-20', 'USC00519281', 72.0),\n",
       " ('2016-05-21', 'USC00519281', 76.0),\n",
       " ('2016-05-22', 'USC00519281', 76.0),\n",
       " ('2016-05-23', 'USC00519281', 74.0),\n",
       " ('2016-05-24', 'USC00519281', 69.0),\n",
       " ('2016-05-25', 'USC00519281', 71.0),\n",
       " ('2016-05-26', 'USC00519281', 74.0),\n",
       " ('2016-05-27', 'USC00519281', 75.0),\n",
       " ('2016-05-28', 'USC00519281', 72.0),\n",
       " ('2016-05-29', 'USC00519281', 74.0),\n",
       " ('2016-05-30', 'USC00519281', 70.0),\n",
       " ('2016-05-31', 'USC00519281', 70.0),\n",
       " ('2016-06-01', 'USC00519281', 69.0),\n",
       " ('2016-06-02', 'USC00519281', 67.0),\n",
       " ('2016-06-03', 'USC00519281', 68.0),\n",
       " ('2016-06-04', 'USC00519281', 65.0),\n",
       " ('2016-06-05', 'USC00519281', 70.0),\n",
       " ('2016-06-06', 'USC00519281', 72.0),\n",
       " ('2016-06-07', 'USC00519281', 74.0),\n",
       " ('2016-06-08', 'USC00519281', 73.0),\n",
       " ('2016-06-09', 'USC00519281', 71.0),\n",
       " ('2016-06-10', 'USC00519281', 75.0),\n",
       " ('2016-06-11', 'USC00519281', 72.0),\n",
       " ('2016-06-12', 'USC00519281', 75.0),\n",
       " ('2016-06-13', 'USC00519281', 76.0),\n",
       " ('2016-06-14', 'USC00519281', 75.0),\n",
       " ('2016-06-15', 'USC00519281', 76.0),\n",
       " ('2016-06-16', 'USC00519281', 75.0),\n",
       " ('2016-06-17', 'USC00519281', 71.0),\n",
       " ('2016-06-18', 'USC00519281', 75.0),\n",
       " ('2016-06-19', 'USC00519281', 75.0),\n",
       " ('2016-06-20', 'USC00519281', 72.0),\n",
       " ('2016-06-21', 'USC00519281', 72.0),\n",
       " ('2016-06-22', 'USC00519281', 75.0),\n",
       " ('2016-06-23', 'USC00519281', 73.0),\n",
       " ('2016-06-24', 'USC00519281', 76.0),\n",
       " ('2016-06-25', 'USC00519281', 74.0),\n",
       " ('2016-06-26', 'USC00519281', 77.0),\n",
       " ('2016-06-27', 'USC00519281', 72.0),\n",
       " ('2016-06-28', 'USC00519281', 71.0),\n",
       " ('2016-06-29', 'USC00519281', 76.0),\n",
       " ('2016-06-30', 'USC00519281', 77.0),\n",
       " ('2016-07-01', 'USC00519281', 76.0),\n",
       " ('2016-07-02', 'USC00519281', 79.0),\n",
       " ('2016-07-03', 'USC00519281', 76.0),\n",
       " ('2016-07-04', 'USC00519281', 79.0),\n",
       " ('2016-07-05', 'USC00519281', 75.0),\n",
       " ('2016-07-06', 'USC00519281', 74.0),\n",
       " ('2016-07-07', 'USC00519281', 73.0),\n",
       " ('2016-07-08', 'USC00519281', 78.0),\n",
       " ('2016-07-09', 'USC00519281', 80.0),\n",
       " ('2016-07-10', 'USC00519281', 72.0),\n",
       " ('2016-07-11', 'USC00519281', 79.0),\n",
       " ('2016-07-12', 'USC00519281', 80.0),\n",
       " ('2016-07-13', 'USC00519281', 76.0),\n",
       " ('2016-07-14', 'USC00519281', 80.0),\n",
       " ('2016-07-15', 'USC00519281', 80.0),\n",
       " ('2016-07-16', 'USC00519281', 73.0),\n",
       " ('2016-07-17', 'USC00519281', 77.0),\n",
       " ('2016-07-18', 'USC00519281', 78.0),\n",
       " ('2016-07-19', 'USC00519281', 79.0),\n",
       " ('2016-07-20', 'USC00519281', 80.0),\n",
       " ('2016-07-21', 'USC00519281', 79.0),\n",
       " ('2016-07-22', 'USC00519281', 78.0),\n",
       " ('2016-07-23', 'USC00519281', 75.0),\n",
       " ('2016-07-24', 'USC00519281', 76.0),\n",
       " ('2016-07-25', 'USC00519281', 78.0),\n",
       " ('2016-07-26', 'USC00519281', 78.0),\n",
       " ('2016-07-27', 'USC00519281', 80.0),\n",
       " ('2016-07-28', 'USC00519281', 81.0),\n",
       " ('2016-07-29', 'USC00519281', 80.0),\n",
       " ('2016-07-30', 'USC00519281', 77.0),\n",
       " ('2016-07-31', 'USC00519281', 75.0),\n",
       " ('2016-08-01', 'USC00519281', 76.0),\n",
       " ('2016-08-02', 'USC00519281', 76.0),\n",
       " ('2016-08-03', 'USC00519281', 77.0),\n",
       " ('2016-08-04', 'USC00519281', 77.0),\n",
       " ('2016-08-05', 'USC00519281', 81.0),\n",
       " ('2016-08-06', 'USC00519281', 78.0),\n",
       " ('2016-08-07', 'USC00519281', 78.0),\n",
       " ('2016-08-08', 'USC00519281', 81.0),\n",
       " ('2016-08-09', 'USC00519281', 81.0),\n",
       " ('2016-08-10', 'USC00519281', 82.0),\n",
       " ('2016-08-11', 'USC00519281', 80.0),\n",
       " ('2016-08-12', 'USC00519281', 76.0),\n",
       " ('2016-08-13', 'USC00519281', 80.0),\n",
       " ('2016-08-14', 'USC00519281', 76.0),\n",
       " ('2016-08-15', 'USC00519281', 75.0),\n",
       " ('2016-08-16', 'USC00519281', 74.0),\n",
       " ('2016-08-17', 'USC00519281', 82.0),\n",
       " ('2016-08-18', 'USC00519281', 80.0),\n",
       " ('2016-08-19', 'USC00519281', 79.0),\n",
       " ('2016-08-20', 'USC00519281', 81.0),\n",
       " ('2016-08-21', 'USC00519281', 79.0),\n",
       " ('2016-08-22', 'USC00519281', 78.0),\n",
       " ('2016-08-23', 'USC00519281', 77.0),\n",
       " ('2016-08-24', 'USC00519281', 77.0),\n",
       " ('2016-08-25', 'USC00519281', 80.0),\n",
       " ('2016-08-26', 'USC00519281', 80.0),\n",
       " ('2016-08-27', 'USC00519281', 75.0),\n",
       " ('2016-08-28', 'USC00519281', 73.0),\n",
       " ('2016-08-29', 'USC00519281', 78.0),\n",
       " ('2016-08-30', 'USC00519281', 77.0),\n",
       " ('2016-08-31', 'USC00519281', 78.0),\n",
       " ('2016-09-01', 'USC00519281', 80.0),\n",
       " ('2016-09-02', 'USC00519281', 80.0),\n",
       " ('2016-09-03', 'USC00519281', 78.0),\n",
       " ('2016-09-04', 'USC00519281', 78.0),\n",
       " ('2016-09-05', 'USC00519281', 78.0),\n",
       " ('2016-09-06', 'USC00519281', 73.0),\n",
       " ('2016-09-07', 'USC00519281', 74.0),\n",
       " ('2016-09-08', 'USC00519281', 80.0),\n",
       " ('2016-09-09', 'USC00519281', 79.0),\n",
       " ('2016-09-10', 'USC00519281', 77.0),\n",
       " ('2016-09-11', 'USC00519281', 80.0),\n",
       " ('2016-09-12', 'USC00519281', 76.0),\n",
       " ('2016-09-13', 'USC00519281', 79.0),\n",
       " ('2016-09-14', 'USC00519281', 75.0),\n",
       " ('2016-09-15', 'USC00519281', 79.0),\n",
       " ('2016-09-16', 'USC00519281', 78.0),\n",
       " ('2016-09-17', 'USC00519281', 79.0),\n",
       " ('2016-09-18', 'USC00519281', 78.0),\n",
       " ('2016-09-19', 'USC00519281', 78.0),\n",
       " ('2016-09-20', 'USC00519281', 76.0),\n",
       " ('2016-09-21', 'USC00519281', 74.0),\n",
       " ('2016-09-22', 'USC00519281', 77.0),\n",
       " ('2016-09-23', 'USC00519281', 78.0),\n",
       " ('2016-09-24', 'USC00519281', 79.0),\n",
       " ('2016-09-25', 'USC00519281', 79.0),\n",
       " ('2016-09-26', 'USC00519281', 77.0),\n",
       " ('2016-09-27', 'USC00519281', 80.0),\n",
       " ('2016-09-28', 'USC00519281', 78.0),\n",
       " ('2016-09-29', 'USC00519281', 78.0),\n",
       " ('2016-09-30', 'USC00519281', 78.0),\n",
       " ('2016-10-01', 'USC00519281', 77.0),\n",
       " ('2016-10-02', 'USC00519281', 79.0),\n",
       " ('2016-10-03', 'USC00519281', 79.0),\n",
       " ('2016-10-04', 'USC00519281', 79.0),\n",
       " ('2016-10-05', 'USC00519281', 79.0),\n",
       " ('2016-10-06', 'USC00519281', 75.0),\n",
       " ('2016-10-07', 'USC00519281', 76.0),\n",
       " ('2016-10-08', 'USC00519281', 73.0),\n",
       " ('2016-10-09', 'USC00519281', 72.0),\n",
       " ('2016-10-10', 'USC00519281', 71.0),\n",
       " ('2016-10-11', 'USC00519281', 77.0),\n",
       " ('2016-10-12', 'USC00519281', 79.0),\n",
       " ('2016-10-13', 'USC00519281', 78.0),\n",
       " ('2016-10-14', 'USC00519281', 79.0),\n",
       " ('2016-10-15', 'USC00519281', 77.0),\n",
       " ('2016-10-16', 'USC00519281', 79.0),\n",
       " ('2016-10-17', 'USC00519281', 77.0),\n",
       " ('2016-10-18', 'USC00519281', 78.0),\n",
       " ('2016-10-19', 'USC00519281', 78.0),\n",
       " ('2016-10-20', 'USC00519281', 78.0),\n",
       " ('2016-10-21', 'USC00519281', 78.0),\n",
       " ('2016-10-22', 'USC00519281', 77.0),\n",
       " ('2016-10-23', 'USC00519281', 74.0),\n",
       " ('2016-10-24', 'USC00519281', 75.0),\n",
       " ('2016-10-25', 'USC00519281', 76.0),\n",
       " ('2016-10-26', 'USC00519281', 73.0),\n",
       " ('2016-10-27', 'USC00519281', 76.0),\n",
       " ('2016-10-28', 'USC00519281', 74.0),\n",
       " ('2016-10-29', 'USC00519281', 77.0),\n",
       " ('2016-10-30', 'USC00519281', 76.0),\n",
       " ('2016-10-31', 'USC00519281', 76.0),\n",
       " ('2016-11-01', 'USC00519281', 74.0),\n",
       " ('2016-11-02', 'USC00519281', 75.0),\n",
       " ('2016-11-03', 'USC00519281', 75.0),\n",
       " ('2016-11-04', 'USC00519281', 75.0),\n",
       " ('2016-11-05', 'USC00519281', 75.0),\n",
       " ('2016-11-06', 'USC00519281', 71.0),\n",
       " ('2016-11-07', 'USC00519281', 63.0),\n",
       " ('2016-11-08', 'USC00519281', 70.0),\n",
       " ('2016-11-09', 'USC00519281', 68.0),\n",
       " ('2016-11-10', 'USC00519281', 67.0),\n",
       " ('2016-11-11', 'USC00519281', 77.0),\n",
       " ('2016-11-12', 'USC00519281', 74.0),\n",
       " ('2016-11-13', 'USC00519281', 77.0),\n",
       " ('2016-11-14', 'USC00519281', 76.0),\n",
       " ('2016-11-15', 'USC00519281', 76.0),\n",
       " ('2016-11-16', 'USC00519281', 75.0),\n",
       " ('2016-11-17', 'USC00519281', 76.0),\n",
       " ('2016-11-18', 'USC00519281', 75.0),\n",
       " ('2016-11-19', 'USC00519281', 73.0),\n",
       " ('2016-11-20', 'USC00519281', 75.0),\n",
       " ('2016-11-21', 'USC00519281', 73.0),\n",
       " ('2016-11-22', 'USC00519281', 75.0),\n",
       " ('2016-11-23', 'USC00519281', 74.0),\n",
       " ('2016-11-24', 'USC00519281', 75.0),\n",
       " ('2016-11-25', 'USC00519281', 74.0),\n",
       " ('2016-11-26', 'USC00519281', 75.0),\n",
       " ('2016-11-27', 'USC00519281', 73.0),\n",
       " ('2016-11-28', 'USC00519281', 75.0),\n",
       " ('2016-11-29', 'USC00519281', 73.0),\n",
       " ('2016-11-30', 'USC00519281', 73.0),\n",
       " ('2016-12-01', 'USC00519281', 74.0),\n",
       " ('2016-12-02', 'USC00519281', 70.0),\n",
       " ('2016-12-03', 'USC00519281', 72.0),\n",
       " ('2016-12-04', 'USC00519281', 70.0),\n",
       " ('2016-12-05', 'USC00519281', 67.0),\n",
       " ('2016-12-06', 'USC00519281', 67.0),\n",
       " ('2016-12-07', 'USC00519281', 69.0),\n",
       " ('2016-12-08', 'USC00519281', 70.0),\n",
       " ('2016-12-09', 'USC00519281', 68.0),\n",
       " ('2016-12-10', 'USC00519281', 69.0),\n",
       " ('2016-12-11', 'USC00519281', 69.0),\n",
       " ('2016-12-12', 'USC00519281', 66.0),\n",
       " ('2016-12-13', 'USC00519281', 65.0),\n",
       " ('2016-12-14', 'USC00519281', 68.0),\n",
       " ('2016-12-15', 'USC00519281', 62.0),\n",
       " ('2016-12-16', 'USC00519281', 75.0),\n",
       " ('2016-12-17', 'USC00519281', 70.0),\n",
       " ('2016-12-18', 'USC00519281', 69.0),\n",
       " ('2016-12-19', 'USC00519281', 76.0),\n",
       " ('2016-12-20', 'USC00519281', 76.0),\n",
       " ('2016-12-21', 'USC00519281', 74.0),\n",
       " ('2016-12-22', 'USC00519281', 73.0),\n",
       " ('2016-12-23', 'USC00519281', 71.0),\n",
       " ('2016-12-24', 'USC00519281', 74.0),\n",
       " ('2016-12-25', 'USC00519281', 74.0),\n",
       " ('2016-12-26', 'USC00519281', 72.0),\n",
       " ('2016-12-27', 'USC00519281', 71.0),\n",
       " ('2016-12-28', 'USC00519281', 72.0),\n",
       " ('2016-12-29', 'USC00519281', 74.0),\n",
       " ('2016-12-30', 'USC00519281', 69.0),\n",
       " ('2016-12-31', 'USC00519281', 67.0),\n",
       " ('2017-01-01', 'USC00519281', 72.0),\n",
       " ('2017-01-02', 'USC00519281', 70.0),\n",
       " ('2017-01-03', 'USC00519281', 64.0),\n",
       " ('2017-01-04', 'USC00519281', 63.0),\n",
       " ('2017-01-05', 'USC00519281', 63.0),\n",
       " ('2017-01-06', 'USC00519281', 62.0),\n",
       " ('2017-01-07', 'USC00519281', 70.0),\n",
       " ('2017-01-08', 'USC00519281', 70.0),\n",
       " ('2017-01-09', 'USC00519281', 62.0),\n",
       " ('2017-01-10', 'USC00519281', 62.0),\n",
       " ('2017-01-11', 'USC00519281', 63.0),\n",
       " ('2017-01-12', 'USC00519281', 65.0),\n",
       " ('2017-01-13', 'USC00519281', 69.0),\n",
       " ('2017-01-14', 'USC00519281', 77.0),\n",
       " ('2017-01-15', 'USC00519281', 70.0),\n",
       " ('2017-01-16', 'USC00519281', 74.0),\n",
       " ('2017-01-17', 'USC00519281', 69.0),\n",
       " ('2017-01-18', 'USC00519281', 72.0),\n",
       " ('2017-01-19', 'USC00519281', 71.0),\n",
       " ('2017-01-20', 'USC00519281', 69.0),\n",
       " ('2017-01-21', 'USC00519281', 71.0),\n",
       " ('2017-01-22', 'USC00519281', 71.0),\n",
       " ('2017-01-23', 'USC00519281', 72.0),\n",
       " ('2017-01-24', 'USC00519281', 72.0),\n",
       " ('2017-01-25', 'USC00519281', 69.0),\n",
       " ('2017-01-26', 'USC00519281', 70.0),\n",
       " ('2017-01-27', 'USC00519281', 66.0),\n",
       " ('2017-01-28', 'USC00519281', 65.0),\n",
       " ('2017-01-29', 'USC00519281', 69.0),\n",
       " ('2017-01-30', 'USC00519281', 68.0),\n",
       " ('2017-01-31', 'USC00519281', 68.0),\n",
       " ('2017-02-01', 'USC00519281', 68.0),\n",
       " ('2017-02-02', 'USC00519281', 59.0),\n",
       " ('2017-02-03', 'USC00519281', 60.0),\n",
       " ('2017-02-04', 'USC00519281', 70.0),\n",
       " ('2017-02-05', 'USC00519281', 73.0),\n",
       " ('2017-02-06', 'USC00519281', 75.0),\n",
       " ('2017-02-07', 'USC00519281', 64.0),\n",
       " ('2017-02-08', 'USC00519281', 59.0),\n",
       " ('2017-02-09', 'USC00519281', 59.0),\n",
       " ('2017-02-10', 'USC00519281', 62.0),\n",
       " ('2017-02-11', 'USC00519281', 68.0),\n",
       " ('2017-02-12', 'USC00519281', 70.0),\n",
       " ('2017-02-13', 'USC00519281', 73.0),\n",
       " ('2017-02-14', 'USC00519281', 79.0),\n",
       " ('2017-02-15', 'USC00519281', 75.0),\n",
       " ('2017-02-16', 'USC00519281', 65.0),\n",
       " ('2017-02-17', 'USC00519281', 70.0),\n",
       " ('2017-02-18', 'USC00519281', 74.0),\n",
       " ('2017-02-19', 'USC00519281', 70.0),\n",
       " ('2017-02-20', 'USC00519281', 70.0),\n",
       " ('2017-02-21', 'USC00519281', 71.0),\n",
       " ('2017-02-22', 'USC00519281', 71.0),\n",
       " ('2017-02-23', 'USC00519281', 71.0),\n",
       " ('2017-02-24', 'USC00519281', 69.0),\n",
       " ('2017-02-25', 'USC00519281', 61.0),\n",
       " ('2017-02-26', 'USC00519281', 67.0),\n",
       " ('2017-02-27', 'USC00519281', 65.0),\n",
       " ('2017-02-28', 'USC00519281', 72.0),\n",
       " ('2017-03-01', 'USC00519281', 71.0),\n",
       " ('2017-03-02', 'USC00519281', 73.0),\n",
       " ('2017-03-03', 'USC00519281', 72.0),\n",
       " ('2017-03-04', 'USC00519281', 77.0),\n",
       " ('2017-03-05', 'USC00519281', 73.0),\n",
       " ('2017-03-06', 'USC00519281', 67.0),\n",
       " ('2017-03-07', 'USC00519281', 62.0),\n",
       " ('2017-03-08', 'USC00519281', 64.0),\n",
       " ('2017-03-09', 'USC00519281', 67.0),\n",
       " ('2017-03-10', 'USC00519281', 66.0),\n",
       " ('2017-03-11', 'USC00519281', 81.0),\n",
       " ('2017-03-12', 'USC00519281', 69.0),\n",
       " ('2017-03-13', 'USC00519281', 66.0),\n",
       " ('2017-03-14', 'USC00519281', 67.0),\n",
       " ('2017-03-15', 'USC00519281', 69.0),\n",
       " ('2017-03-16', 'USC00519281', 66.0),\n",
       " ('2017-03-17', 'USC00519281', 68.0),\n",
       " ('2017-03-18', 'USC00519281', 65.0),\n",
       " ('2017-03-19', 'USC00519281', 74.0),\n",
       " ('2017-03-20', 'USC00519281', 69.0),\n",
       " ('2017-03-21', 'USC00519281', 72.0),\n",
       " ('2017-03-22', 'USC00519281', 73.0),\n",
       " ('2017-03-23', 'USC00519281', 72.0),\n",
       " ('2017-03-24', 'USC00519281', 71.0),\n",
       " ('2017-03-25', 'USC00519281', 76.0),\n",
       " ('2017-03-26', 'USC00519281', 77.0),\n",
       " ('2017-03-27', 'USC00519281', 76.0),\n",
       " ('2017-03-28', 'USC00519281', 74.0),\n",
       " ('2017-03-29', 'USC00519281', 68.0),\n",
       " ('2017-03-30', 'USC00519281', 73.0),\n",
       " ('2017-03-31', 'USC00519281', 71.0),\n",
       " ('2017-04-01', 'USC00519281', 74.0),\n",
       " ('2017-04-02', 'USC00519281', 75.0),\n",
       " ('2017-04-03', 'USC00519281', 70.0),\n",
       " ('2017-04-04', 'USC00519281', 67.0),\n",
       " ('2017-04-05', 'USC00519281', 71.0),\n",
       " ('2017-04-06', 'USC00519281', 67.0),\n",
       " ('2017-04-07', 'USC00519281', 74.0),\n",
       " ('2017-04-08', 'USC00519281', 77.0),\n",
       " ('2017-04-09', 'USC00519281', 78.0),\n",
       " ('2017-04-10', 'USC00519281', 67.0),\n",
       " ('2017-04-11', 'USC00519281', 70.0),\n",
       " ('2017-04-12', 'USC00519281', 69.0),\n",
       " ('2017-04-13', 'USC00519281', 69.0),\n",
       " ('2017-04-14', 'USC00519281', 74.0),\n",
       " ('2017-04-15', 'USC00519281', 78.0),\n",
       " ('2017-04-16', 'USC00519281', 71.0),\n",
       " ('2017-04-17', 'USC00519281', 67.0),\n",
       " ('2017-04-18', 'USC00519281', 68.0),\n",
       " ('2017-04-19', 'USC00519281', 67.0),\n",
       " ('2017-04-20', 'USC00519281', 76.0),\n",
       " ('2017-04-21', 'USC00519281', 69.0),\n",
       " ('2017-04-22', 'USC00519281', 72.0),\n",
       " ('2017-04-23', 'USC00519281', 76.0),\n",
       " ('2017-04-24', 'USC00519281', 68.0),\n",
       " ('2017-04-25', 'USC00519281', 72.0),\n",
       " ('2017-04-26', 'USC00519281', 74.0),\n",
       " ('2017-04-27', 'USC00519281', 70.0),\n",
       " ('2017-04-28', 'USC00519281', 67.0),\n",
       " ('2017-04-29', 'USC00519281', 72.0),\n",
       " ('2017-04-30', 'USC00519281', 60.0),\n",
       " ('2017-05-01', 'USC00519281', 65.0)]"
      ]
     },
     "execution_count": 18,
     "metadata": {},
     "output_type": "execute_result"
    }
   ],
   "source": [
    "tobs_stations = session.query(measure.date, measure.station, measure.tobs).\\\n",
    "    filter(measure.date <= '2017-05-01').\\\n",
    "    filter(measure.date >= '2016-05-01').\\\n",
    "    filter(measure.station == 'USC00519281').all()\n",
    "tobs_stations"
   ]
  },
  {
   "cell_type": "code",
   "execution_count": 19,
   "metadata": {},
   "outputs": [
    {
     "data": {
      "text/html": [
       "<div>\n",
       "<style>\n",
       "    .dataframe thead tr:only-child th {\n",
       "        text-align: right;\n",
       "    }\n",
       "\n",
       "    .dataframe thead th {\n",
       "        text-align: left;\n",
       "    }\n",
       "\n",
       "    .dataframe tbody tr th {\n",
       "        vertical-align: top;\n",
       "    }\n",
       "</style>\n",
       "<table border=\"1\" class=\"dataframe\">\n",
       "  <thead>\n",
       "    <tr style=\"text-align: right;\">\n",
       "      <th></th>\n",
       "      <th>date</th>\n",
       "      <th>station</th>\n",
       "      <th>tobs</th>\n",
       "    </tr>\n",
       "  </thead>\n",
       "  <tbody>\n",
       "    <tr>\n",
       "      <th>0</th>\n",
       "      <td>2016-05-01</td>\n",
       "      <td>USC00519281</td>\n",
       "      <td>75.0</td>\n",
       "    </tr>\n",
       "    <tr>\n",
       "      <th>1</th>\n",
       "      <td>2016-05-02</td>\n",
       "      <td>USC00519281</td>\n",
       "      <td>73.0</td>\n",
       "    </tr>\n",
       "    <tr>\n",
       "      <th>2</th>\n",
       "      <td>2016-05-03</td>\n",
       "      <td>USC00519281</td>\n",
       "      <td>74.0</td>\n",
       "    </tr>\n",
       "    <tr>\n",
       "      <th>3</th>\n",
       "      <td>2016-05-04</td>\n",
       "      <td>USC00519281</td>\n",
       "      <td>72.0</td>\n",
       "    </tr>\n",
       "    <tr>\n",
       "      <th>4</th>\n",
       "      <td>2016-05-05</td>\n",
       "      <td>USC00519281</td>\n",
       "      <td>68.0</td>\n",
       "    </tr>\n",
       "  </tbody>\n",
       "</table>\n",
       "</div>"
      ],
      "text/plain": [
       "         date      station  tobs\n",
       "0  2016-05-01  USC00519281  75.0\n",
       "1  2016-05-02  USC00519281  73.0\n",
       "2  2016-05-03  USC00519281  74.0\n",
       "3  2016-05-04  USC00519281  72.0\n",
       "4  2016-05-05  USC00519281  68.0"
      ]
     },
     "execution_count": 19,
     "metadata": {},
     "output_type": "execute_result"
    }
   ],
   "source": [
    "USC00519281 = pd.DataFrame(tobs_stations)\n",
    "USC00519281.head()"
   ]
  },
  {
   "cell_type": "code",
   "execution_count": 20,
   "metadata": {},
   "outputs": [
    {
     "data": {
      "text/html": [
       "<div>\n",
       "<style>\n",
       "    .dataframe thead tr:only-child th {\n",
       "        text-align: right;\n",
       "    }\n",
       "\n",
       "    .dataframe thead th {\n",
       "        text-align: left;\n",
       "    }\n",
       "\n",
       "    .dataframe tbody tr th {\n",
       "        vertical-align: top;\n",
       "    }\n",
       "</style>\n",
       "<table border=\"1\" class=\"dataframe\">\n",
       "  <thead>\n",
       "    <tr style=\"text-align: right;\">\n",
       "      <th></th>\n",
       "      <th>date</th>\n",
       "      <th>station</th>\n",
       "    </tr>\n",
       "    <tr>\n",
       "      <th>tobs</th>\n",
       "      <th></th>\n",
       "      <th></th>\n",
       "    </tr>\n",
       "  </thead>\n",
       "  <tbody>\n",
       "    <tr>\n",
       "      <th>59.0</th>\n",
       "      <td>3</td>\n",
       "      <td>3</td>\n",
       "    </tr>\n",
       "    <tr>\n",
       "      <th>60.0</th>\n",
       "      <td>2</td>\n",
       "      <td>2</td>\n",
       "    </tr>\n",
       "    <tr>\n",
       "      <th>61.0</th>\n",
       "      <td>1</td>\n",
       "      <td>1</td>\n",
       "    </tr>\n",
       "    <tr>\n",
       "      <th>62.0</th>\n",
       "      <td>6</td>\n",
       "      <td>6</td>\n",
       "    </tr>\n",
       "    <tr>\n",
       "      <th>63.0</th>\n",
       "      <td>4</td>\n",
       "      <td>4</td>\n",
       "    </tr>\n",
       "  </tbody>\n",
       "</table>\n",
       "</div>"
      ],
      "text/plain": [
       "      date  station\n",
       "tobs               \n",
       "59.0     3        3\n",
       "60.0     2        2\n",
       "61.0     1        1\n",
       "62.0     6        6\n",
       "63.0     4        4"
      ]
     },
     "execution_count": 20,
     "metadata": {},
     "output_type": "execute_result"
    }
   ],
   "source": [
    "group_tobs = USC00519281.sort_values(['tobs', 'date'], ascending=False).groupby('tobs').count()\n",
    "group_tobs.head()"
   ]
  },
  {
   "cell_type": "code",
   "execution_count": 21,
   "metadata": {
    "collapsed": true
   },
   "outputs": [],
   "source": [
    "# bins = [57.5, 60, 62.5, 65, 67.5, 70, 72.5, 75, 77.5, 80, 82.5, 85]\n",
    "# plt.bar(group_tobs.index, group_tobs.date)\n",
    "# plt.xlabel('Temperature')\n",
    "# plt.ylabel('Frequency')"
   ]
  },
  {
   "cell_type": "code",
   "execution_count": 22,
   "metadata": {},
   "outputs": [
    {
     "data": {
      "text/plain": [
       "Text(36.625,0.5,'Frequency')"
      ]
     },
     "execution_count": 22,
     "metadata": {},
     "output_type": "execute_result"
    }
   ],
   "source": [
    "plt.hist(USC00519281.tobs, bins = 12)\n",
    "plt.xlabel('Temperature')\n",
    "plt.ylabel('Frequency')"
   ]
  },
  {
   "cell_type": "markdown",
   "metadata": {},
   "source": [
    "## Temperature Analysis"
   ]
  },
  {
   "cell_type": "code",
   "execution_count": 23,
   "metadata": {
    "collapsed": true
   },
   "outputs": [],
   "source": [
    "def calc_temps(start_date, end_date):\n",
    "    if re.match(r'[0-9]{4}-[0-9]{2}-[0-9]{2}$', start_date) and re.match(r'[0-9]{4}-[0-9]{2}-[0-9]{2}$', end_date):\n",
    "        return session.query(func.min(measure.tobs), func.max(measure.tobs), func.avg(measure.tobs)).\\\n",
    "        filter(measure.date <= end_date).\\\n",
    "        filter(measure.date >= start_date).all()[0]\n",
    "    else:\n",
    "        return 'Invalid date format, please enter again'"
   ]
  },
  {
   "cell_type": "code",
   "execution_count": null,
   "metadata": {},
   "outputs": [],
   "source": [
    "start_date = input(\"Please enter a start date in the format of YYYY-MM-DD\")\n",
    "end_date = input(\"Please enter a end date in the format of YYYY-MM-DD\")    "
   ]
  },
  {
   "cell_type": "code",
   "execution_count": 25,
   "metadata": {},
   "outputs": [
    {
     "ename": "ValueError",
     "evalue": "too many values to unpack (expected 3)",
     "output_type": "error",
     "traceback": [
      "\u001b[0;31m---------------------------------------------------------------------------\u001b[0m",
      "\u001b[0;31mValueError\u001b[0m                                Traceback (most recent call last)",
      "\u001b[0;32m<ipython-input-25-9d5b1fed8b8f>\u001b[0m in \u001b[0;36m<module>\u001b[0;34m()\u001b[0m\n\u001b[0;32m----> 1\u001b[0;31m \u001b[0mtmin\u001b[0m\u001b[0;34m,\u001b[0m \u001b[0mtmax\u001b[0m\u001b[0;34m,\u001b[0m \u001b[0mtavg\u001b[0m \u001b[0;34m=\u001b[0m \u001b[0mcalc_temps\u001b[0m\u001b[0;34m(\u001b[0m\u001b[0mstart_date\u001b[0m\u001b[0;34m,\u001b[0m \u001b[0mend_date\u001b[0m\u001b[0;34m)\u001b[0m\u001b[0;34m\u001b[0m\u001b[0m\n\u001b[0m",
      "\u001b[0;31mValueError\u001b[0m: too many values to unpack (expected 3)"
     ]
    }
   ],
   "source": [
    "tmin, tmax, tavg = calc_temps(start_date, end_date)"
   ]
  },
  {
   "cell_type": "code",
   "execution_count": null,
   "metadata": {},
   "outputs": [],
   "source": [
    "plt.boxplot([tmin, tmax, tavg])"
   ]
  },
  {
   "cell_type": "code",
   "execution_count": null,
   "metadata": {},
   "outputs": [],
   "source": [
    "tmin, tmax, tavg"
   ]
  },
  {
   "cell_type": "code",
   "execution_count": null,
   "metadata": {
    "collapsed": true
   },
   "outputs": [],
   "source": []
  },
  {
   "cell_type": "code",
   "execution_count": null,
   "metadata": {
    "collapsed": true
   },
   "outputs": [],
   "source": []
  }
 ],
 "metadata": {
  "kernelspec": {
   "display_name": "Python 3",
   "language": "python",
   "name": "python3"
  },
  "language_info": {
   "codemirror_mode": {
    "name": "ipython",
    "version": 3
   },
   "file_extension": ".py",
   "mimetype": "text/x-python",
   "name": "python",
   "nbconvert_exporter": "python",
   "pygments_lexer": "ipython3",
   "version": "3.6.3"
  }
 },
 "nbformat": 4,
 "nbformat_minor": 2
}
